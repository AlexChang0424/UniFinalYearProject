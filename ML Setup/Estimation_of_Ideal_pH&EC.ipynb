{
 "cells": [
  {
   "cell_type": "code",
   "execution_count": 8,
   "id": "0a95a2d5-c401-45f5-baa1-2f44296052dd",
   "metadata": {},
   "outputs": [
    {
     "name": "stdout",
     "output_type": "stream",
     "text": [
      "            Date        Time  Air Humidity  Air Temperature  \\\n",
      "0      31/1/2023  9:00:13 AM          73.0             27.0   \n",
      "1      31/1/2023  9:00:15 AM          73.0             27.0   \n",
      "2      31/1/2023  9:00:20 AM          73.0             27.0   \n",
      "3      31/1/2023  9:00:33 AM          73.0             27.0   \n",
      "4      31/1/2023  9:00:35 AM          73.0             27.0   \n",
      "...          ...         ...           ...              ...   \n",
      "18644   6/2/2023  9:41:21 PM          77.0             27.0   \n",
      "18645   6/2/2023  9:41:24 PM          77.0             27.0   \n",
      "18646   6/2/2023  9:41:30 PM          77.0             27.0   \n",
      "18647   6/2/2023  9:41:36 PM          77.0             27.0   \n",
      "18648   6/2/2023  9:41:42 PM          77.0             27.0   \n",
      "\n",
      "       TDS concentration  Water Temperature  ph Value  \n",
      "0                  632.4               26.6       6.1  \n",
      "1                  632.2               26.8       6.1  \n",
      "2                  632.4               26.8       6.1  \n",
      "3                  632.3               26.8       6.1  \n",
      "4                  632.4               26.8       6.1  \n",
      "...                  ...                ...       ...  \n",
      "18644              631.3               27.0       5.9  \n",
      "18645              631.2               27.1       6.0  \n",
      "18646              631.1               27.0       6.0  \n",
      "18647              631.2               27.1       6.0  \n",
      "18648              631.2               27.0       5.9  \n",
      "\n",
      "[18649 rows x 7 columns]\n",
      "Predicted pH value: 6.185787139330938\n"
     ]
    }
   ],
   "source": [
    "import numpy as np\n",
    "import pandas as pd\n",
    "from sklearn.linear_model import LinearRegression\n",
    "\n",
    "# Load the dataset from a .csv file\n",
    "dataset = pd.read_csv('Sensorsdata.csv')\n",
    "print(dataset)\n",
    "\n",
    "# Extract the EC and pH data from the dataset\n",
    "ec_data = dataset['TDS concentration'].values\n",
    "ph_data = dataset['ph Value'].values\n",
    "\n",
    "# Preprocess the EC data by taking the logarithm\n",
    "ec_data_log = np.log(ec_data)\n",
    "\n",
    "# Train a linear regression model on the dataset\n",
    "reg_model = LinearRegression().fit(ec_data_log.reshape(-1, 1), ph_data)\n",
    "\n",
    "# Generate a new EC measurement to predict the pH value\n",
    "new_ec_measurement = 700\n",
    "new_ec_measurement_log = np.log(new_ec_measurement)\n",
    "predicted_ph_value = reg_model.predict(new_ec_measurement_log.reshape(-1, 1))[0]\n",
    "\n",
    "print(f\"Predicted pH value: {predicted_ph_value}\")"
   ]
  },
  {
   "cell_type": "code",
   "execution_count": 4,
   "id": "1889508d-e75f-4531-94fb-3602852fb388",
   "metadata": {},
   "outputs": [
    {
     "name": "stdout",
     "output_type": "stream",
     "text": [
      "pH range:  [5.5 5.6 5.7 5.8 5.9 6.1 6.2 6.3 6.4 6.5]\n",
      "EC range:  [560 591 622 653 684 715 746 777 808 840]\n"
     ]
    }
   ],
   "source": [
    "import numpy as np\n",
    "\n",
    "# Spreading out the pH range\n",
    "pH_range = np.linspace(5.5, 6.5, num=10)\n",
    "print(\"pH range: \", np.round(pH_range, decimals=1))\n",
    "\n",
    "# Spreading out the EC range\n",
    "EC_range = np.linspace(560, 840, num=10).astype(int)\n",
    "print(\"EC range: \", EC_range)\n"
   ]
  },
  {
   "cell_type": "code",
   "execution_count": 16,
   "id": "4c8c9931-4ac2-444b-9c1b-10e98dda9aca",
   "metadata": {},
   "outputs": [
    {
     "name": "stdout",
     "output_type": "stream",
     "text": [
      "Predicted EC:  [[726.41818182]\n",
      " [726.41818182]\n",
      " [726.41818182]\n",
      " ...\n",
      " [699.6       ]\n",
      " [699.6       ]\n",
      " [672.78181818]]\n",
      "Predicted pH:  [[5.75083708]\n",
      " [5.75009552]\n",
      " [5.75083708]\n",
      " ...\n",
      " [5.74601696]\n",
      " [5.74638774]\n",
      " [5.74638774]]\n"
     ]
    }
   ],
   "source": [
    "import numpy as np\n",
    "import pandas as pd\n",
    "from sklearn.linear_model import LinearRegression\n",
    "\n",
    "# Load the dataset from a .csv file\n",
    "dataset = pd.read_csv('Sensorsdata.csv')\n",
    "\n",
    "# Extract the EC and pH data from the dataset\n",
    "ec_data = dataset['TDS concentration'].values.reshape(-1, 1)\n",
    "ph_data = dataset['ph Value'].values.reshape(-1, 1)\n",
    "\n",
    "# EC data\n",
    "EC = np.array([560, 591, 622, 653, 684, 715, 746, 777, 808, 840]).reshape(-1, 1)\n",
    "\n",
    "# pH data\n",
    "pH = np.array([5.5, 5.6, 5.7, 5.8, 5.9, 6.1, 6.2, 6.3, 6.4, 6.5]).reshape(-1, 1)\n",
    "\n",
    "# Create a linear regression model for EC based on pH\n",
    "EC_model = LinearRegression()\n",
    "EC_model.fit(pH, EC)\n",
    "\n",
    "# Create a linear regression model for pH based on EC\n",
    "pH_model = LinearRegression()\n",
    "pH_model.fit(EC, pH)\n",
    "\n",
    "# Test the EC model on new pH data\n",
    "predicted_EC = EC_model.predict(ph_data)\n",
    "print(\"Predicted EC: \", predicted_EC)\n",
    "\n",
    "# Test the pH model on new EC data\n",
    "predicted_pH = pH_model.predict(ec_data)\n",
    "print(\"Predicted pH: \", predicted_pH)\n",
    "\n",
    "# Predict EC and pH for the dataset\n",
    "dataset['Predicted EC'] = EC_model.predict(dataset['ph Value'].values.reshape(-1, 1))\n",
    "dataset['Predicted pH'] = pH_model.predict(dataset['TDS concentration'].values.reshape(-1, 1))\n",
    "\n",
    "# Save the updated dataset to the CSV file\n",
    "dataset.to_csv('Sensorsdata.csv', index=False)"
   ]
  }
 ],
 "metadata": {
  "kernelspec": {
   "display_name": "Python 3 (ipykernel)",
   "language": "python",
   "name": "python3"
  },
  "language_info": {
   "codemirror_mode": {
    "name": "ipython",
    "version": 3
   },
   "file_extension": ".py",
   "mimetype": "text/x-python",
   "name": "python",
   "nbconvert_exporter": "python",
   "pygments_lexer": "ipython3",
   "version": "3.9.16"
  }
 },
 "nbformat": 4,
 "nbformat_minor": 5
}
